{
 "cells": [
  {
   "cell_type": "markdown",
   "metadata": {},
   "source": [
    "# Computer Vision Nanodegree\n",
    "\n",
    "## Project: Image Captioning\n",
    "\n",
    "---\n",
    "\n",
    "In this notebook, I will use the trained model to generate captions for images in the test dataset.\n",
    "\n",
    "INDEX:\n",
    "- [Step 1](#step1): Get Data Loader for Test Dataset \n",
    "- [Step 2](#step2): Load Trained Models\n",
    "- [Step 3](#step3): Clean up Captions\n",
    "- [Step 4](#step4): Generate Predictions!"
   ]
  },
  {
   "cell_type": "markdown",
   "metadata": {},
   "source": [
    "<a id='step1'></a>\n",
    "## Step 1: Get Data Loader for Test Dataset\n",
    "\n",
    "Before running the code cell below, define the transform in `transform_test` for the test images.  \n",
    "\n",
    "The pre-processing of the test images is as same as the training images"
   ]
  },
  {
   "cell_type": "code",
   "execution_count": 2,
   "metadata": {},
   "outputs": [],
   "source": [
    "import sys\n",
    "from data_loader import get_loader\n",
    "from torchvision import transforms\n",
    "\n",
    "# TODO #1: Defining a transform to pre-process the testing images.\n",
    "transform_test = transforms.Compose([ \n",
    "    transforms.Resize(256),                          \n",
    "    transforms.CenterCrop(224),                             \n",
    "    transforms.ToTensor(),                           \n",
    "    transforms.Normalize((0.485, 0.456, 0.406),      \n",
    "                         (0.229, 0.224, 0.225))])"
   ]
  },
  {
   "cell_type": "markdown",
   "metadata": {},
   "source": [
    "<a id='step2'></a>\n",
    "## Step 2: Load Trained Models\n",
    "\n",
    "In the next code cell I have defined a `device` that you will use move PyTorch tensors to GPU (if CUDA is available).  Run this code cell before continuing."
   ]
  },
  {
   "cell_type": "code",
   "execution_count": 3,
   "metadata": {},
   "outputs": [],
   "source": [
    "import torch\n",
    "\n",
    "device = torch.device(\"cuda\" if torch.cuda.is_available() else \"cpu\")"
   ]
  },
  {
   "cell_type": "code",
   "execution_count": 5,
   "metadata": {},
   "outputs": [
    {
     "name": "stdout",
     "output_type": "stream",
     "text": [
      "The autoreload extension is already loaded. To reload it, use:\n",
      "  %reload_ext autoreload\n",
      "E:\\Shiva Image Captioning\n",
      "E:\\Shiva Image Captioning\\models\\encoder-1.pkl\n",
      "10321\n"
     ]
    },
    {
     "data": {
      "text/plain": [
       "DecoderRNN(\n",
       "  (word_embeddings): Embedding(10321, 512)\n",
       "  (embed): Embedding(10321, 512)\n",
       "  (lstm): LSTM(512, 512, batch_first=True)\n",
       "  (linear): Linear(in_features=512, out_features=10321, bias=True)\n",
       ")"
      ]
     },
     "execution_count": 5,
     "metadata": {},
     "output_type": "execute_result"
    }
   ],
   "source": [
    "# Watches for any changes in model.py, and re-load it automatically.\n",
    "%load_ext autoreload\n",
    "%autoreload 2\n",
    "import pickle\n",
    "import os\n",
    "import torch\n",
    "from model import EncoderCNN, DecoderRNN\n",
    "\n",
    "# TODO #2: Specify the saved models to load.\n",
    "encoder_file = 'encoder-1.pkl'\n",
    "decoder_file = 'decoder-1.pkl'\n",
    "\n",
    "# TODO #3: Select appropriate values for the Python variables below.\n",
    "embed_size = 512\n",
    "hidden_size = 512\n",
    "\n",
    "# The size of the vocabulary.\n",
    "vocab_file = 'vocab.pkl'\n",
    "\n",
    "with open(os.path.join(os.getcwd(),vocab_file), 'rb') as f:\n",
    "    vocab = pickle.load(f)\n",
    "    word2idx = vocab.word2idx\n",
    "    idx2word = vocab.idx2word\n",
    "vocab_size = len(vocab)\n",
    "# Initialize the encoder and decoder, and set each to inference mode.\n",
    "encoder = EncoderCNN(embed_size)\n",
    "encoder.eval()\n",
    "decoder = DecoderRNN(embed_size, hidden_size, vocab_size)\n",
    "decoder.eval()\n",
    "print(os.getcwd())\n",
    "address = os.path.join(os.getcwd(),'models', encoder_file)\n",
    "print(address)\n",
    "# Load the trained weights.\n",
    "encoder.load_state_dict(torch.load(address))\n",
    "decoder.load_state_dict(torch.load(os.path.join(os.getcwd(),'models', decoder_file)))\n",
    "print(vocab_size)\n",
    "# Move models to GPU if CUDA is available.\n",
    "encoder.to(device)\n",
    "decoder.to(device)"
   ]
  },
  {
   "cell_type": "markdown",
   "metadata": {},
   "source": [
    "<a id='step3'></a>\n",
    "## Step 3: Clean up the Captions\n",
    "\n",
    "In the code cell below, complete the `clean_sentence` function.  It should take a list of integers as input and return the corresponding predicted sentence (as a single Python string). "
   ]
  },
  {
   "cell_type": "code",
   "execution_count": 26,
   "metadata": {},
   "outputs": [],
   "source": [
    "# TODO #4: Complete the function.\n",
    "def clean_sentence(output,idx2word):\n",
    "    sentence = \"\"\n",
    "    for idx in output:\n",
    "        if idx == 0:\n",
    "            continue\n",
    "        if idx == 1:\n",
    "            break\n",
    "        word = idx2word[idx]\n",
    "        sentence = sentence + word + ' '\n",
    "        \n",
    "    return sentence"
   ]
  },
  {
   "cell_type": "markdown",
   "metadata": {},
   "source": [
    "<a id='step4'></a>\n",
    "## Step 4: Generate Predictions!\n",
    "\n",
    "In the code cell below, we have written a function (`get_prediction`) that we will use to generate proper sentence"
   ]
  },
  {
   "cell_type": "code",
   "execution_count": 29,
   "metadata": {},
   "outputs": [],
   "source": [
    "import os\n",
    "import random \n",
    "from PIL import Image\n",
    "def load_image(transform_t):\n",
    "    path=os.getcwd()+\"\\Images\\\\\"\n",
    "    files=os.listdir(path)\n",
    "    d=random.choice(files)\n",
    "    file_path = path+d\n",
    "    raw_image = Image.open(file_path)\n",
    "    raw_image.show()\n",
    "    raw_image = raw_image.convert('RGB')\n",
    "    return transform_t(raw_image).unsqueeze(0)"
   ]
  },
  {
   "cell_type": "code",
   "execution_count": 32,
   "metadata": {},
   "outputs": [
    {
     "name": "stdout",
     "output_type": "stream",
     "text": [
      "a man brushing his teeth with a white toothbrush . \n"
     ]
    }
   ],
   "source": [
    "image = load_image(transform_test)\n",
    "image_tensor = image.to(device)\n",
    "features = encoder(image_tensor).unsqueeze(1)\n",
    "output = decoder.sample(features)\n",
    "caption = clean_sentence(output,idx2word)\n",
    "print(caption)"
   ]
  }
 ],
 "metadata": {
  "anaconda-cloud": {},
  "kernelspec": {
   "display_name": "Python 3",
   "language": "python",
   "name": "python3"
  },
  "language_info": {
   "codemirror_mode": {
    "name": "ipython",
    "version": 3
   },
   "file_extension": ".py",
   "mimetype": "text/x-python",
   "name": "python",
   "nbconvert_exporter": "python",
   "pygments_lexer": "ipython3",
   "version": "3.8.8"
  }
 },
 "nbformat": 4,
 "nbformat_minor": 2
}
